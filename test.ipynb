{
 "cells": [
  {
   "cell_type": "code",
   "execution_count": 1,
   "metadata": {},
   "outputs": [],
   "source": [
    "from transient_solid_earth.solid_earth_full_numerical_model import SolidEarthFullNumericalModel\n",
    "from transient_solid_earth.solid_earth_time_dependent_numerical_model import (\n",
    "    SolidEarthTimeDependentNumericalModel,\n",
    ")"
   ]
  },
  {
   "cell_type": "code",
   "execution_count": 2,
   "metadata": {},
   "outputs": [],
   "source": [
    "solid_earth_full_numerical_model = SolidEarthFullNumericalModel()"
   ]
  },
  {
   "cell_type": "code",
   "execution_count": 3,
   "metadata": {},
   "outputs": [],
   "source": [
    "import numpy\n",
    "  \n",
    "solid_earth_time_dependent_numerical_model = SolidEarthTimeDependentNumericalModel(\n",
    "    solid_earth_full_numerical_model=solid_earth_full_numerical_model, period=numpy.inf, n=2\n",
    ")"
   ]
  },
  {
   "cell_type": "code",
   "execution_count": 4,
   "metadata": {},
   "outputs": [
    {
     "data": {
      "text/plain": [
       "array([[-0.99154583+0.j,  0.02332932+0.j, -0.30543998+0.j],\n",
       "       [ 0.06045288+0.j,  0.31699406+0.j,  0.0837822 +0.j],\n",
       "       [ 0.60225503+0.j,  0.08378219+0.j,  0.29681505+0.j]])"
      ]
     },
     "execution_count": 4,
     "metadata": {},
     "output_type": "execute_result"
    }
   ],
   "source": [
    "solid_earth_time_dependent_numerical_model.integrate_y_i_systems(save=False)"
   ]
  }
 ],
 "metadata": {
  "kernelspec": {
   "display_name": "venv_0",
   "language": "python",
   "name": "python3"
  },
  "language_info": {
   "codemirror_mode": {
    "name": "ipython",
    "version": 3
   },
   "file_extension": ".py",
   "mimetype": "text/x-python",
   "name": "python",
   "nbconvert_exporter": "python",
   "pygments_lexer": "ipython3",
   "version": "3.11.10"
  }
 },
 "nbformat": 4,
 "nbformat_minor": 2
}
