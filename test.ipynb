{
 "cells": [
  {
   "cell_type": "code",
   "execution_count": null,
   "metadata": {},
   "outputs": [],
   "source": [
    "from transient_solid_earth import (\n",
    "    SolidEarthTimeDependentNumericalModel,\n",
    "    SolidEarthFullNumericalModel,\n",
    ")\n",
    "\n",
    "SolidEarthTimeDependentNumericalModel(\n",
    "    solid_earth_full_numerical_model=SolidEarthFullNumericalModel(),\n",
    "    period=0.01,\n",
    "    n=100000,\n",
    ").integrate_y_i_systems(save=False)"
   ]
  },
  {
   "cell_type": "code",
   "execution_count": null,
   "metadata": {},
   "outputs": [],
   "source": [
    "from pathlib import Path\n",
    "from transient_solid_earth.paths import intermediate_result_subpaths\n",
    "from transient_solid_earth.database import load_base_model\n",
    "import numpy\n",
    "\n",
    "path = Path(intermediate_result_subpaths[\"love_numbers\"])\n",
    "from matplotlib.pyplot import semilogx, show, title, scatter\n",
    "\n",
    "for part in [\"real\", \"imag\"]:\n",
    "    for model_path in path.iterdir():\n",
    "        model_result = []\n",
    "        for n_path in model_path.iterdir():\n",
    "            periods = [\n",
    "                float(period_path.name)\n",
    "                for period_path in n_path.iterdir()\n",
    "                if not period_path.is_file()\n",
    "            ]\n",
    "            periods.sort()\n",
    "            if (len(periods) > 55 or len(periods) < 35) and not len(periods) == 1:\n",
    "                degree_result = []\n",
    "                for period in periods:\n",
    "                    degree_result += [\n",
    "                        numpy.array(\n",
    "                            object=load_base_model(name=part, path=n_path.joinpath(str(period)))\n",
    "                        )\n",
    "                    ]\n",
    "                result = numpy.array(object=degree_result)\n",
    "                print(len(periods))\n",
    "                for big_tab in result.transpose(1, 2, 0):\n",
    "                    for tab in big_tab:\n",
    "                        semilogx(\n",
    "                            periods,\n",
    "                            tab / tab[0],\n",
    "                        )\n",
    "                        scatter(\n",
    "                            periods,\n",
    "                            tab / tab[0],\n",
    "                        )\n",
    "                title(\n",
    "                    model_path.name + \": \" + n_path.name,\n",
    "                )\n",
    "                show()"
   ]
  }
 ],
 "metadata": {
  "kernelspec": {
   "display_name": "venv_2",
   "language": "python",
   "name": "python3"
  },
  "language_info": {
   "codemirror_mode": {
    "name": "ipython",
    "version": 3
   },
   "file_extension": ".py",
   "mimetype": "text/x-python",
   "name": "python",
   "nbconvert_exporter": "python",
   "pygments_lexer": "ipython3",
   "version": "3.12.10"
  }
 },
 "nbformat": 4,
 "nbformat_minor": 2
}
