{
 "cells": [
  {
   "cell_type": "code",
   "execution_count": 1,
   "metadata": {},
   "outputs": [],
   "source": [
    "from transient_solid_earth.solid_earth_full_numerical_model import SolidEarthFullNumericalModel\n",
    "from transient_solid_earth.solid_earth_time_dependent_numerical_model import (\n",
    "    SolidEarthTimeDependentNumericalModel,\n",
    ")"
   ]
  },
  {
   "cell_type": "code",
   "execution_count": 2,
   "metadata": {},
   "outputs": [],
   "source": [
    "solid_earth_full_numerical_model = SolidEarthFullNumericalModel()"
   ]
  },
  {
   "cell_type": "code",
   "execution_count": null,
   "metadata": {},
   "outputs": [],
   "source": [
    "solid_earth_time_dependent_numerical_model = SolidEarthTimeDependentNumericalModel(\n",
    "    solid_earth_full_numerical_model=solid_earth_full_numerical_model, log_frequency=-3.0, n=2\n",
    ")"
   ]
  },
  {
   "cell_type": "code",
   "execution_count": 7,
   "metadata": {},
   "outputs": [
    {
     "data": {
      "text/plain": [
       "array([-1.00089232+0.00647938j,  0.02058149+0.00192496j,\n",
       "       -0.30997003+0.00314284j,  0.06548184-0.00351537j,\n",
       "        0.3249489 -0.00559791j,  0.08606334-0.00159041j,\n",
       "        0.61214641-0.00686158j,  0.08606334-0.00159041j,\n",
       "        0.30217639-0.00371875j])"
      ]
     },
     "execution_count": 7,
     "metadata": {},
     "output_type": "execute_result"
    }
   ],
   "source": [
    "solid_earth_time_dependent_numerical_model.integrate_y_i_systems()"
   ]
  }
 ],
 "metadata": {
  "kernelspec": {
   "display_name": "venv_0",
   "language": "python",
   "name": "python3"
  },
  "language_info": {
   "codemirror_mode": {
    "name": "ipython",
    "version": 3
   },
   "file_extension": ".py",
   "mimetype": "text/x-python",
   "name": "python",
   "nbconvert_exporter": "python",
   "pygments_lexer": "ipython3",
   "version": "3.11.10"
  }
 },
 "nbformat": 4,
 "nbformat_minor": 2
}
