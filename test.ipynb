{
 "cells": [
  {
   "cell_type": "code",
   "execution_count": 1,
   "metadata": {},
   "outputs": [],
   "source": [
    "from transient_solid_earth.solid_earth_full_numerical_model import SolidEarthFullNumericalModel\n",
    "from transient_solid_earth.solid_earth_time_dependent_numerical_model import (\n",
    "    SolidEarthTimeDependentNumericalModel,\n",
    ")"
   ]
  },
  {
   "cell_type": "code",
   "execution_count": 2,
   "metadata": {},
   "outputs": [],
   "source": [
    "solid_earth_full_numerical_model = SolidEarthFullNumericalModel()"
   ]
  },
  {
   "cell_type": "code",
   "execution_count": 3,
   "metadata": {},
   "outputs": [],
   "source": [
    "import numpy\n",
    "  \n",
    "solid_earth_time_dependent_numerical_model = SolidEarthTimeDependentNumericalModel(\n",
    "    solid_earth_full_numerical_model=solid_earth_full_numerical_model, period=10.0, n=20\n",
    ")"
   ]
  },
  {
   "cell_type": "code",
   "execution_count": 4,
   "metadata": {},
   "outputs": [
    {
     "data": {
      "text/plain": [
       "'PREM_____VM7_____Benjamin_Q_Resovsky'"
      ]
     },
     "execution_count": 4,
     "metadata": {},
     "output_type": "execute_result"
    }
   ],
   "source": [
    "solid_earth_time_dependent_numerical_model.model_id"
   ]
  },
  {
   "cell_type": "code",
   "execution_count": 5,
   "metadata": {},
   "outputs": [
    {
     "data": {
      "text/plain": [
       "array([[-2.6184615 +5.77224228e-01j,  0.0102616 +1.79174949e-02j,\n",
       "        -0.09180049+1.66139362e-02j],\n",
       "       [-0.04732945+8.60398238e-04j,  0.00640899-1.10114191e-03j,\n",
       "         0.00337797-1.35789178e-04j],\n",
       "       [ 1.59145348-4.94221405e-01j,  0.09972477-1.68018546e-02j,\n",
       "        -0.04114714-1.01216640e-02j]])"
      ]
     },
     "execution_count": 5,
     "metadata": {},
     "output_type": "execute_result"
    }
   ],
   "source": [
    "solid_earth_time_dependent_numerical_model.integrate_y_i_systems(save=False)"
   ]
  }
 ],
 "metadata": {
  "kernelspec": {
   "display_name": "venv_0",
   "language": "python",
   "name": "python3"
  },
  "language_info": {
   "codemirror_mode": {
    "name": "ipython",
    "version": 3
   },
   "file_extension": ".py",
   "mimetype": "text/x-python",
   "name": "python",
   "nbconvert_exporter": "python",
   "pygments_lexer": "ipython3",
   "version": "3.11.10"
  }
 },
 "nbformat": 4,
 "nbformat_minor": 2
}
